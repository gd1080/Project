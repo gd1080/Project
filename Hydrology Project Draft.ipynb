{
 "cells": [
  {
   "cell_type": "markdown",
   "id": "0d0fd874",
   "metadata": {},
   "source": [
    "# Solar Radiation and the Ever Changing \n",
    "\n",
    "This project will take solar radiation, precipitation, temperature, and evaportation data to monitor how much solar radiation influence seasonality changes in North Orini, Maine. \n",
    "\n",
    "@author = Gavin Drake  \n",
    "@date = 2023-03-30  \n",
    "@license = MIT -- https://opensource.org/licenses/MIT"
   ]
  },
  {
   "cell_type": "markdown",
   "id": "e5dc5ce8",
   "metadata": {},
   "source": [
    "Question/Hypothesis: How does solar radiation influence seasonality changes over time?"
   ]
  },
  {
   "cell_type": "markdown",
   "id": "43f52cff",
   "metadata": {},
   "source": [
    "Site: 30 miles North of Orono, Maine (US-Ho2)\n",
    "    Elevation: 60m\n",
    "    Location: Howland Forest, Evergreen Needleleaf Forests\n",
    "    Climate: Warm Summer Continental "
   ]
  },
  {
   "cell_type": "markdown",
   "id": "1a655b2f",
   "metadata": {},
   "source": [
    "Data: From AmeriFlux\n",
    "    Date: 1999-2020\n",
    "    Name: Daily Project Data.csv\n",
    "    Location: C:\\Users\\Gavin\\OneDrive\\Documents\\HDA lecture\\Project"
   ]
  },
  {
   "cell_type": "markdown",
   "id": "33a98225",
   "metadata": {},
   "source": [
    "Graph: This will be added. My excel kept crashing"
   ]
  },
  {
   "cell_type": "code",
   "execution_count": null,
   "id": "4760d413",
   "metadata": {},
   "outputs": [],
   "source": [
    "# Importing modules\n",
    "\n",
    "import pandas as pd\n",
    "from matplotlib import pyplot as plt\n",
    "import numpy as np\n"
   ]
  },
  {
   "cell_type": "code",
   "execution_count": 3,
   "id": "91965bc2",
   "metadata": {},
   "outputs": [],
   "source": [
    "#Specifying parameters: Such as date, in file names, etc\n",
    "infile_name = 'Daily Project Data.csv'\n",
    "\n",
    "fig_title = 'North Orono, ME'\n"
   ]
  },
  {
   "cell_type": "code",
   "execution_count": 4,
   "id": "180eeb33",
   "metadata": {},
   "outputs": [
    {
     "ename": "NameError",
     "evalue": "name 'pd' is not defined",
     "output_type": "error",
     "traceback": [
      "\u001b[1;31m---------------------------------------------------------------------------\u001b[0m",
      "\u001b[1;31mNameError\u001b[0m                                 Traceback (most recent call last)",
      "Cell \u001b[1;32mIn[4], line 12\u001b[0m\n\u001b[0;32m      9\u001b[0m    data\u001b[38;5;241m.\u001b[39mreplace([np\u001b[38;5;241m.\u001b[39mnan], \u001b[38;5;241m0\u001b[39m, inplace \u001b[38;5;241m=\u001b[39m \u001b[38;5;28;01mTrue\u001b[39;00m)\n\u001b[0;32m     10\u001b[0m    \u001b[38;5;28;01mreturn\u001b[39;00m data\n\u001b[1;32m---> 12\u001b[0m data \u001b[38;5;241m=\u001b[39m \u001b[43mreadscan\u001b[49m\u001b[43m(\u001b[49m\u001b[43minfile_name\u001b[49m\u001b[43m)\u001b[49m\n",
      "Cell \u001b[1;32mIn[4], line 5\u001b[0m, in \u001b[0;36mreadscan\u001b[1;34m(filename)\u001b[0m\n\u001b[0;32m      4\u001b[0m \u001b[38;5;28;01mdef\u001b[39;00m \u001b[38;5;21mreadscan\u001b[39m(filename):\n\u001b[1;32m----> 5\u001b[0m    data \u001b[38;5;241m=\u001b[39m \u001b[43mpd\u001b[49m\u001b[38;5;241m.\u001b[39mread_csv(infile_name, comment \u001b[38;5;241m=\u001b[39m \u001b[38;5;124m'\u001b[39m\u001b[38;5;124m#\u001b[39m\u001b[38;5;124m'\u001b[39m, parse_dates \u001b[38;5;241m=\u001b[39m [\u001b[38;5;124m'\u001b[39m\u001b[38;5;124mTIMESTAMP\u001b[39m\u001b[38;5;124m'\u001b[39m],\n\u001b[0;32m      6\u001b[0m                       index_col \u001b[38;5;241m=\u001b[39m [\u001b[38;5;124m'\u001b[39m\u001b[38;5;124mTIMESTAMP\u001b[39m\u001b[38;5;124m'\u001b[39m], na_values \u001b[38;5;241m=\u001b[39m (\u001b[38;5;124m'\u001b[39m\u001b[38;5;124m-9999\u001b[39m\u001b[38;5;124m'\u001b[39m))\n\u001b[0;32m      7\u001b[0m    data \u001b[38;5;241m=\u001b[39m data\u001b[38;5;241m.\u001b[39mresample(\u001b[38;5;124m'\u001b[39m\u001b[38;5;124mD\u001b[39m\u001b[38;5;124m'\u001b[39m)\u001b[38;5;241m.\u001b[39mmean()\n\u001b[0;32m      8\u001b[0m    data \u001b[38;5;241m=\u001b[39m data\u001b[38;5;241m.\u001b[39mrename(columns\u001b[38;5;241m=\u001b[39m{\u001b[38;5;124m'\u001b[39m\u001b[38;5;124mP_F\u001b[39m\u001b[38;5;124m'\u001b[39m: \u001b[38;5;124m'\u001b[39m\u001b[38;5;124mPrecip\u001b[39m\u001b[38;5;124m'\u001b[39m, \u001b[38;5;124m'\u001b[39m\u001b[38;5;124mTA_F\u001b[39m\u001b[38;5;124m'\u001b[39m: \u001b[38;5;124m'\u001b[39m\u001b[38;5;124mAir_Temp\u001b[39m\u001b[38;5;124m'\u001b[39m})\n",
      "\u001b[1;31mNameError\u001b[0m: name 'pd' is not defined"
     ]
    }
   ],
   "source": [
    "#Loading Data: using the methods from Lab 6 to load data\n",
    "    \n",
    "#loading data and removing -9999 values\n",
    "def readscan(filename):\n",
    "   data = pd.read_csv(infile_name, comment = '#', parse_dates = ['TIMESTAMP'],\n",
    "                      index_col = ['TIMESTAMP'], na_values = ('-9999'))\n",
    "   data = data.resample('D').mean()\n",
    "   data = data.rename(columns={'P_F': 'Precip', 'TA_F': 'Air_Temp'})\n",
    "   data.replace([np.nan], 0, inplace = True)\n",
    "   return data\n",
    "\n",
    "data = readscan(infile_name)\n"
   ]
  },
  {
   "cell_type": "code",
   "execution_count": null,
   "id": "9fb7862c",
   "metadata": {
    "collapsed": true,
    "jupyter": {
     "outputs_hidden": true
    }
   },
   "outputs": [],
   "source": [
    "#For Loop\n",
    "\n",
    "columns= ['G', 'H', 'LE', 'SW_IN', 'SW_OUT', 'LW_IN', 'LW_OUT', 'TA', 'TS', 'Precip', 'NETRAD', 'Air_Temp']\n",
    "for c in columns:\n",
    "     if c in data.columns.tolist():\n",
    "         pass\n",
    "     else:\n",
    "         data[c]=data.filter(like=c+'_', axis=1).mean(axis=1)\n",
    "data = data[columns]\n"
   ]
  },
  {
   "cell_type": "code",
   "execution_count": null,
   "id": "33dd5437",
   "metadata": {},
   "outputs": [],
   "source": [
    "#Calculations\n",
    "\n",
    "# Rolling Command\n",
    "\n",
    "data['7_day_AT'] = data['Air_Temp'].rolling(7, center = False).mean()\n",
    "\n",
    "data['7_day_Rad'] = data['NETRAD'].rolling(7, center = False).mean()\n",
    "\n",
    "startdate=data.loc[(data.index.month==10)&(data.index.day==1)].index[0]\n",
    "enddate=data.loc[(data.index.month==9)&(data.index.day==30)].index[-1]\n",
    "data=data[startdate:enddate]\n"
   ]
  },
  {
   "cell_type": "markdown",
   "id": "51a62fc8",
   "metadata": {},
   "source": [
    "creates a new column in the data file that looks averages the data from a 7 day period into one variable throughout a water year. This then continues for every water year in the data."
   ]
  },
  {
   "cell_type": "code",
   "execution_count": null,
   "id": "ad8c7a10",
   "metadata": {},
   "outputs": [],
   "source": [
    "#Plot 1 \n",
    "\n",
    "# Plot scatter plot\n",
    "fig, ax = plt.subplots()\n",
    "ax.scatter(data['7_day_AT'],data['7_day_Rad'])\n",
    "x=data['7_day_AT']\n",
    "y=data['7_day_Rad']\n",
    "coefficients = np.polyfit(x, y, 2)\n",
    "\n",
    "# Plotting the best-fit line\n",
    "x_fit = np.linspace(min(x), max(x), num=100)\n",
    "y_fit = coefficients[0]*(x_fit)**2+ coefficients[1] * x_fit + coefficients[2]\n",
    "plt.plot(x_fit, y_fit, color='red')\n",
    "\n",
    "# Add x-axis label\n",
    "ax.set_xlabel('Air Tamp (C)')\n",
    "\n",
    "# Add y-axis label\n",
    "ax.set_ylabel('Net Radiation (W mâˆ’2')\n",
    "\n",
    "# Add plot title\n",
    "ax.set_title(fig_title)\n",
    "\n",
    "# Add legend\n",
    "ax.legend()\n"
   ]
  },
  {
   "cell_type": "code",
   "execution_count": null,
   "id": "d214694b",
   "metadata": {},
   "outputs": [],
   "source": [
    "#Monthly Seasonality Calc.\n",
    "\n",
    "\n",
    "# Add columns (month, water_year,day_of_year)\n",
    "data['month']=data.index.month\n",
    "data['water_year']=data.index.year\n",
    "data.loc[data['month']>9,'water_year']= data.loc[data['month']>9,'water_year'] +1\n",
    "data['day_of_year']=data.index.dayofyear\n",
    "\n",
    "# Annual data series\n",
    "data_annual = data.groupby('water_year')['Precip'].sum()\n",
    "\n",
    "# Calculations\n",
    "P = np.mean(data_annual) #avg annual total precip (mm/year)\n",
    "\n",
    "# Average monthly precipitation\n",
    "P_month = P/12\n",
    "\n",
    "# New dataframe for monthly data\n",
    "data_monthly = data.groupby('month')[['day_of_year']].median()\n",
    "\n",
    "# Creating new precip column in new dataframe\n",
    "data_monthly['Precip'] = np.NAN\n",
    "\n",
    "for i in range(1,13):\n",
    "    pmonth = data.loc[data['month']==i,['Precip', 'water_year']]\n",
    "    monthmean = pmonth.groupby('water_year').sum().mean()\n",
    "    data_monthly.loc[i,'Precip'] = monthmean[0]\n",
    "    "
   ]
  },
  {
   "cell_type": "code",
   "execution_count": null,
   "id": "c07d6aed",
   "metadata": {},
   "outputs": [],
   "source": [
    "#Bar Chart\n",
    "\n",
    "fig, ax = plt.subplots()\n",
    "\n",
    "# Plot monthly precipitation\n",
    "ax.bar(data_monthly.index, data_monthly['Precip'], label='Monthly Precipitation')\n",
    "\n",
    "# Plot average monthly precipitation\n",
    "ax.axhline(P_month, ls='-', color='k', label='Average Monthly Precipitation')\n",
    "\n",
    "# Add x-axis label\n",
    "ax.set_xlabel('Month')\n",
    "\n",
    "# Add y-axis label\n",
    "ax.set_ylabel('Precipitation (mm/month)')\n",
    "\n",
    "# Add plot title\n",
    "ax.set_title(fig_title)\n",
    "\n",
    "# Add legend\n",
    "ax.legend()\n",
    "\n",
    "# Change x-axis tick labels to month names\n",
    "ax.set_xticklabels(['Jan', 'Feb', 'Mar', 'Apr', 'May', 'Jun', 'Jul', 'Aug', 'Sep', 'Oct', 'Nov', 'Dec'])\n",
    "\n",
    "plt.show()\n"
   ]
  },
  {
   "cell_type": "code",
   "execution_count": null,
   "id": "fe503a74",
   "metadata": {},
   "outputs": [],
   "source": [
    "#Create Polar Plot\n",
    "\n",
    "fig = plt.figure(figsize=(5, 5))\n",
    "ax = fig.add_subplot(111, projection='polar')\n",
    "\n",
    "# Plot monthly precipitation\n",
    "theta = np.linspace(0, 2*np.pi, 13)\n",
    "r = data_monthly['Precip'].tolist()\n",
    "r.append(r[0])\n",
    "ax.plot(theta, r)\n",
    "\n",
    "# Add circular line for average monthly precipitation\n",
    "avg_precip = np.ones(13) * data_monthly['Precip'].mean()\n",
    "ax.plot(theta, avg_precip, color='k', linestyle='--')\n",
    "\n",
    "# Set x-axis (theta) labels to month names\n",
    "month_names = ['Jan', 'Feb', 'Mar', 'Apr', 'May', 'Jun', 'Jul', 'Aug', 'Sep', 'Oct', 'Nov', 'Dec', 'Jan']\n",
    "ax.set_xticks(theta)\n",
    "ax.set_xticklabels(month_names)\n",
    "\n",
    "# Set radial axis (r) ticks\n",
    "ax.set_yticks(np.arange(0, 110, 20))\n",
    "\n",
    "# Add labels, legend, and title\n",
    "ax.set_xlabel('Month')\n",
    "ax.set_ylabel('Precipitation (mm/month)')\n",
    "ax.set_title('Monthly Precipitation at North Orono, ME')\n",
    "legend = ax.legend(['Monthly Precipitation', 'Average Monthly Precipitation'], loc='lower left')\n",
    "legend.get_frame().set_linewidth(0)\n",
    "\n",
    "# Display plot\n",
    "plt.show()\n"
   ]
  },
  {
   "cell_type": "code",
   "execution_count": null,
   "id": "ba3dec38",
   "metadata": {},
   "outputs": [],
   "source": [
    "#Plotting Shorter Time Series # Need to expand on this\n",
    "\n",
    "# creating a for loop to go through different dates\n",
    "#for i,v in enumerate(startdate):\n",
    "    #data = data[startdate:enddate]\n",
    "\n",
    "# Creating plots\n",
    "    fig, (ax1,ax2,ax3,ax4,ax5,ax6,ax7) = plt.subplots(9,1, \n",
    "                                            figsize = (10,16), sharex = True)\n",
    "    \n",
    "    ax1.plot(data['SW_IN'], 'b-', label = 'SW_IN')\n",
    "    ax1.plot(data['SW_OUT'], 'r-', label = 'SW_OT')\n",
    "    ax1.plot(data['LW_IN'], 'g-', label = 'LW_IN')\n",
    "    ax1.plot(data['LW_OUT'],'c-', label = 'LW_OUT')\n",
    "    ax1.plot(data['LE'], 'k-', label = 'LE')\n",
    "    ax1.plot(data['H'],'m-', label = 'H') \n",
    "    ax1.plot(data['G'], 'y-', label = 'G')\n",
    "    ax1.legend(loc = 'center left', bbox_to_anchor = (1.0,0.5))\n",
    "\n",
    "# Add plot components (ax1 - 9)\n",
    "    ax1.set_ylabel('Energy flix in \\n watts/m2')\n",
    "    ax1.set_title(fig_title)\n",
    "\n",
    "    ax2.plot(data['PA'],'b-', label = 'PA')\n",
    "    ax2.set_ylabel('Atmospheric Pressure \\n kPa')\n",
    "    ax2.legend(loc = 'center left', bbox_to_anchor = (1.0,0.5))\n",
    "\n",
    "    ax3.plot(data['TA'], 'b-', label = 'TA')\n",
    "    ax3.plot(data['TS'], 'r-', label = 'TS')\n",
    "    ax3.set_ylabel('Temperature in \\n degrees C')\n",
    "    ax3.legend(loc = 'center left', bbox_to_anchor = (1.0,0.5))\n",
    "\n",
    "    ax4.plot(data['WS'],'b-', label = 'WS')\n",
    "    ax4.set_ylabel('Wind Speed in \\n m/s')\n",
    "    ax4.legend(loc = 'center left', bbox_to_anchor = (1.0,0.5))\n",
    "\n",
    "    ax5.plot(data['SWC'],'b-', label = 'SWC')\n",
    "    ax5.set_ylabel('Soil Moisture \\n %')\n",
    "    ax5.legend(loc = 'center left', bbox_to_anchor = (1.0,0.5))\n",
    "\n",
    "    ax6.plot(data['Precip'],'b-', label = 'P')\n",
    "    ax6.set_ylabel('Precipitation \\n mm')\n",
    "    ax6.legend(loc = 'center left', bbox_to_anchor = (1.0,0.5))\n",
    "\n",
    "    ax7.plot(data['ET_filled'], 'r-', label = 'ET estimate')\n",
    "    ax7.set_ylabel('Evapotranspiration \\n mm/day')\n",
    "    ax7.set_title(fig_title)\n",
    "    ax7.legend(loc = 'center left', bbox_to_anchor = (1.0,0.5))\n"
   ]
  },
  {
   "cell_type": "markdown",
   "id": "b86d6e12",
   "metadata": {},
   "source": [
    "Conclusion: from this code I will gain experience in using methods from lectures and past labs and generate 4 plots using statistical analysis methods from lecture. Glodal climate change is a major issue however, solar radiation does play a part to seasonal changes. Monitering seasonality change can show how much varying solar radiation affects the climate. "
   ]
  }
 ],
 "metadata": {
  "kernelspec": {
   "display_name": "Python 3 (ipykernel)",
   "language": "python",
   "name": "python3"
  },
  "language_info": {
   "codemirror_mode": {
    "name": "ipython",
    "version": 3
   },
   "file_extension": ".py",
   "mimetype": "text/x-python",
   "name": "python",
   "nbconvert_exporter": "python",
   "pygments_lexer": "ipython3",
   "version": "3.9.16"
  }
 },
 "nbformat": 4,
 "nbformat_minor": 5
}
